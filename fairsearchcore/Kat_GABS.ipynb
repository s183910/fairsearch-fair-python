{
 "cells": [
  {
   "cell_type": "code",
   "execution_count": 98,
   "metadata": {},
   "outputs": [
    {
     "data": {
      "text/html": [
       "<div>\n",
       "<style scoped>\n",
       "    .dataframe tbody tr th:only-of-type {\n",
       "        vertical-align: middle;\n",
       "    }\n",
       "\n",
       "    .dataframe tbody tr th {\n",
       "        vertical-align: top;\n",
       "    }\n",
       "\n",
       "    .dataframe thead th {\n",
       "        text-align: right;\n",
       "    }\n",
       "</style>\n",
       "<table border=\"1\" class=\"dataframe\">\n",
       "  <thead>\n",
       "    <tr style=\"text-align: right;\">\n",
       "      <th></th>\n",
       "      <th>Unnamed: 0</th>\n",
       "      <th>Idx</th>\n",
       "      <th>Gender_bins</th>\n",
       "      <th>Preds</th>\n",
       "    </tr>\n",
       "  </thead>\n",
       "  <tbody>\n",
       "    <tr>\n",
       "      <th>0</th>\n",
       "      <td>0</td>\n",
       "      <td>12328</td>\n",
       "      <td>0</td>\n",
       "      <td>93.608452</td>\n",
       "    </tr>\n",
       "    <tr>\n",
       "      <th>1</th>\n",
       "      <td>1</td>\n",
       "      <td>2068</td>\n",
       "      <td>0</td>\n",
       "      <td>93.608452</td>\n",
       "    </tr>\n",
       "    <tr>\n",
       "      <th>2</th>\n",
       "      <td>2</td>\n",
       "      <td>7493</td>\n",
       "      <td>0</td>\n",
       "      <td>93.239960</td>\n",
       "    </tr>\n",
       "    <tr>\n",
       "      <th>3</th>\n",
       "      <td>3</td>\n",
       "      <td>4900</td>\n",
       "      <td>0</td>\n",
       "      <td>93.159966</td>\n",
       "    </tr>\n",
       "    <tr>\n",
       "      <th>4</th>\n",
       "      <td>4</td>\n",
       "      <td>7510</td>\n",
       "      <td>0</td>\n",
       "      <td>93.008148</td>\n",
       "    </tr>\n",
       "    <tr>\n",
       "      <th>...</th>\n",
       "      <td>...</td>\n",
       "      <td>...</td>\n",
       "      <td>...</td>\n",
       "      <td>...</td>\n",
       "    </tr>\n",
       "    <tr>\n",
       "      <th>4091</th>\n",
       "      <td>4091</td>\n",
       "      <td>9075</td>\n",
       "      <td>0</td>\n",
       "      <td>18.310169</td>\n",
       "    </tr>\n",
       "    <tr>\n",
       "      <th>4092</th>\n",
       "      <td>4092</td>\n",
       "      <td>7766</td>\n",
       "      <td>0</td>\n",
       "      <td>18.073782</td>\n",
       "    </tr>\n",
       "    <tr>\n",
       "      <th>4093</th>\n",
       "      <td>4093</td>\n",
       "      <td>4258</td>\n",
       "      <td>0</td>\n",
       "      <td>17.996725</td>\n",
       "    </tr>\n",
       "    <tr>\n",
       "      <th>4094</th>\n",
       "      <td>4094</td>\n",
       "      <td>1338</td>\n",
       "      <td>0</td>\n",
       "      <td>17.177900</td>\n",
       "    </tr>\n",
       "    <tr>\n",
       "      <th>4095</th>\n",
       "      <td>4095</td>\n",
       "      <td>1909</td>\n",
       "      <td>0</td>\n",
       "      <td>17.168259</td>\n",
       "    </tr>\n",
       "  </tbody>\n",
       "</table>\n",
       "<p>4096 rows × 4 columns</p>\n",
       "</div>"
      ],
      "text/plain": [
       "      Unnamed: 0    Idx  Gender_bins      Preds\n",
       "0              0  12328            0  93.608452\n",
       "1              1   2068            0  93.608452\n",
       "2              2   7493            0  93.239960\n",
       "3              3   4900            0  93.159966\n",
       "4              4   7510            0  93.008148\n",
       "...          ...    ...          ...        ...\n",
       "4091        4091   9075            0  18.310169\n",
       "4092        4092   7766            0  18.073782\n",
       "4093        4093   4258            0  17.996725\n",
       "4094        4094   1338            0  17.177900\n",
       "4095        4095   1909            0  17.168259\n",
       "\n",
       "[4096 rows x 4 columns]"
      ]
     },
     "execution_count": 98,
     "metadata": {},
     "output_type": "execute_result"
    }
   ],
   "source": [
    "# Load library\r\n",
    "import fairsearchcore as fsc\r\n",
    "import pandas as pd\r\n",
    "dataframen = pd.read_csv(\"samlet_preds_index_ny_PLAIN.csv\")\r\n",
    "dataframen"
   ]
  },
  {
   "cell_type": "code",
   "execution_count": 99,
   "metadata": {},
   "outputs": [
    {
     "data": {
      "text/plain": [
       "0.3466666666666667"
      ]
     },
     "execution_count": 99,
     "metadata": {},
     "output_type": "execute_result"
    }
   ],
   "source": [
    "nydf = dataframen.iloc[:600]\r\n",
    "men = len(nydf[nydf.Gender_bins == 0])\r\n",
    "women = len(nydf[nydf.Gender_bins != 0])\r\n",
    "\r\n",
    "women/(women+men)"
   ]
  },
  {
   "cell_type": "code",
   "execution_count": 119,
   "metadata": {},
   "outputs": [],
   "source": [
    "\r\n",
    "k = 400 # number of topK elements returned (value should be between 10 and 400)\r\n",
    "p = 0.5 # proportion of protected candidates in the topK elements (value should be between 0.02 and 0.98) \r\n",
    "alpha = 0.1 # significance level (value should be between 0.01 and 0.15)\r\n",
    "\r\n",
    "# create the Fair object \r\n",
    "fair = fsc.Fair(k, p, alpha)\r\n",
    "\r\n",
    "# create an mtable using alpha unadjusted\r\n",
    "mtable = fair.create_unadjusted_mtable()\r\n",
    "\r\n",
    "# analytically calculate the fail probability\r\n",
    "# analytical = fair.compute_fail_probability(mtable)\r\n",
    "\r\n",
    "# create an mtable using alpha adjusted\r\n",
    "mtable = fair.create_adjusted_mtable()\r\n",
    "\r\n",
    "# # again, analytically calculate the fail probability\r\n",
    "# analytical = fair.compute_fail_probability(mtable)"
   ]
  },
  {
   "cell_type": "code",
   "execution_count": 120,
   "metadata": {},
   "outputs": [],
   "source": [
    "# dataframen.Gender_bins.bool\r\n",
    "dataframen[\"Gender_bins\"] = dataframen[\"Gender_bins\"].astype('bool')"
   ]
  },
  {
   "cell_type": "code",
   "execution_count": 121,
   "metadata": {},
   "outputs": [],
   "source": [
    "from fairsearchcore.models import FairScoreDoc\r\n",
    "\r\n",
    "liste = []\r\n",
    "for i in range(400):\r\n",
    "    # FairScoreDoc(dataframen.Idx[i],dataframen.Preds[i],dataframen.Gender_bins[i])\r\n",
    "    liste.append(FairScoreDoc(dataframen.Idx[i],dataframen.Preds[i],dataframen.Gender_bins[i]))\r\n",
    "\r\n",
    "org_ranking = liste"
   ]
  },
  {
   "cell_type": "code",
   "execution_count": 122,
   "metadata": {},
   "outputs": [
    {
     "data": {
      "text/plain": [
       "False"
      ]
     },
     "execution_count": 122,
     "metadata": {},
     "output_type": "execute_result"
    }
   ],
   "source": [
    "fair.is_fair(org_ranking)"
   ]
  },
  {
   "cell_type": "code",
   "execution_count": 126,
   "metadata": {},
   "outputs": [
    {
     "data": {
      "text/plain": [
       "<FairScoreDoc [Nonprotected]>"
      ]
     },
     "execution_count": 126,
     "metadata": {},
     "output_type": "execute_result"
    }
   ],
   "source": [
    "re_ranked = fair.re_rank(org_ranking)\r\n",
    "re_ranked[1]\r\n",
    "# len(re_ranked)\r\n",
    "# re_ranked = re_ranked[:300]\r\n",
    "# len(re_ranked)"
   ]
  },
  {
   "cell_type": "code",
   "execution_count": 124,
   "metadata": {},
   "outputs": [
    {
     "data": {
      "text/plain": [
       "False"
      ]
     },
     "execution_count": 124,
     "metadata": {},
     "output_type": "execute_result"
    }
   ],
   "source": [
    "fair.is_fair(re_ranked)"
   ]
  }
 ],
 "metadata": {
  "interpreter": {
   "hash": "e2b6eb828a06aba2a5f38c98b0f742e720c3c24745e1f8335692b0a3c2eb5e5e"
  },
  "kernelspec": {
   "display_name": "Python 3.9.4 64-bit",
   "name": "python3"
  },
  "language_info": {
   "codemirror_mode": {
    "name": "ipython",
    "version": 3
   },
   "file_extension": ".py",
   "mimetype": "text/x-python",
   "name": "python",
   "nbconvert_exporter": "python",
   "pygments_lexer": "ipython3",
   "version": "3.9.4"
  },
  "orig_nbformat": 4
 },
 "nbformat": 4,
 "nbformat_minor": 2
}